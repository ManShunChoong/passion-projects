{
 "cells": [
  {
   "cell_type": "code",
   "execution_count": 1,
   "outputs": [],
   "source": [
    "import re\n",
    "\n",
    "import pandas as pd\n",
    "import seaborn as sns"
   ],
   "metadata": {
    "collapsed": false
   }
  },
  {
   "cell_type": "code",
   "execution_count": 2,
   "outputs": [
    {
     "data": {
      "text/plain": "        Party  Seats\n0          PH     76\n1          PN     51\n2          BN     30\n3         PAS     22\n4         GPS     22\n5         GRS      6\n6         DAP      5\n7     WARISAN      3\n8       BEBAS      2\n9        MUDA      1\n10        KDM      1\n11        PBM      1\n12  (unknown)      2",
      "text/html": "<div>\n<style scoped>\n    .dataframe tbody tr th:only-of-type {\n        vertical-align: middle;\n    }\n\n    .dataframe tbody tr th {\n        vertical-align: top;\n    }\n\n    .dataframe thead th {\n        text-align: right;\n    }\n</style>\n<table border=\"1\" class=\"dataframe\">\n  <thead>\n    <tr style=\"text-align: right;\">\n      <th></th>\n      <th>Party</th>\n      <th>Seats</th>\n    </tr>\n  </thead>\n  <tbody>\n    <tr>\n      <th>0</th>\n      <td>PH</td>\n      <td>76</td>\n    </tr>\n    <tr>\n      <th>1</th>\n      <td>PN</td>\n      <td>51</td>\n    </tr>\n    <tr>\n      <th>2</th>\n      <td>BN</td>\n      <td>30</td>\n    </tr>\n    <tr>\n      <th>3</th>\n      <td>PAS</td>\n      <td>22</td>\n    </tr>\n    <tr>\n      <th>4</th>\n      <td>GPS</td>\n      <td>22</td>\n    </tr>\n    <tr>\n      <th>5</th>\n      <td>GRS</td>\n      <td>6</td>\n    </tr>\n    <tr>\n      <th>6</th>\n      <td>DAP</td>\n      <td>5</td>\n    </tr>\n    <tr>\n      <th>7</th>\n      <td>WARISAN</td>\n      <td>3</td>\n    </tr>\n    <tr>\n      <th>8</th>\n      <td>BEBAS</td>\n      <td>2</td>\n    </tr>\n    <tr>\n      <th>9</th>\n      <td>MUDA</td>\n      <td>1</td>\n    </tr>\n    <tr>\n      <th>10</th>\n      <td>KDM</td>\n      <td>1</td>\n    </tr>\n    <tr>\n      <th>11</th>\n      <td>PBM</td>\n      <td>1</td>\n    </tr>\n    <tr>\n      <th>12</th>\n      <td>(unknown)</td>\n      <td>2</td>\n    </tr>\n  </tbody>\n</table>\n</div>"
     },
     "execution_count": 2,
     "metadata": {},
     "output_type": "execute_result"
    }
   ],
   "source": [
    "string = \"\"\"\n",
    "PH\n",
    "76 Kerusi\n",
    "\n",
    "\n",
    "\n",
    "PN\n",
    "51 Kerusi\n",
    "\n",
    "\n",
    "\n",
    "BN\n",
    "30 Kerusi\n",
    "\n",
    "\n",
    "\n",
    "PAS\n",
    "22 Kerusi\n",
    "\n",
    "\n",
    "\n",
    "GPS\n",
    "22 Kerusi\n",
    "\n",
    "\n",
    "\n",
    "GRS\n",
    "6 Kerusi\n",
    "\n",
    "\n",
    "\n",
    "DAP\n",
    "5 Kerusi\n",
    "\n",
    "\n",
    "\n",
    "WARISAN\n",
    "3 Kerusi\n",
    "\n",
    "\n",
    "\n",
    "BEBAS\n",
    "2 Kerusi\n",
    "\n",
    "\n",
    "\n",
    "MUDA\n",
    "1 Kerusi\n",
    "\n",
    "\n",
    "\n",
    "KDM\n",
    "1 Kerusi\n",
    "\n",
    "\n",
    "\n",
    "PBM\n",
    "1 Kerusi\n",
    "\"\"\"\n",
    "string = string.strip()\n",
    "strings = re.split(\"\\n\\n\", string)\n",
    "strings = [\n",
    "    string.replace(\" Kerusi\", \"\").split(\"\\n\")\n",
    "    for string in strings\n",
    "    if string != \"\"\n",
    "]\n",
    "\n",
    "df = pd.DataFrame(strings, columns=[\"Party\", \"Seats\"])\n",
    "df.Seats = df.Seats.astype(\"int\")\n",
    "df.loc[len(df)] = [\"(unknown)\", 222 - df.Seats.sum()]\n",
    "\n",
    "df"
   ],
   "metadata": {
    "collapsed": false
   }
  },
  {
   "cell_type": "code",
   "execution_count": 3,
   "outputs": [
    {
     "data": {
      "text/plain": "        Party  Seats\n0   PH + MUDA     82\n1          PN     73\n2          BN     30\n4         GPS     22\n5         GRS      6\n7     WARISAN      3\n8       BEBAS      2\n12  (unknown)      2\n10        KDM      1\n11        PBM      1",
      "text/html": "<div>\n<style scoped>\n    .dataframe tbody tr th:only-of-type {\n        vertical-align: middle;\n    }\n\n    .dataframe tbody tr th {\n        vertical-align: top;\n    }\n\n    .dataframe thead th {\n        text-align: right;\n    }\n</style>\n<table border=\"1\" class=\"dataframe\">\n  <thead>\n    <tr style=\"text-align: right;\">\n      <th></th>\n      <th>Party</th>\n      <th>Seats</th>\n    </tr>\n  </thead>\n  <tbody>\n    <tr>\n      <th>0</th>\n      <td>PH + MUDA</td>\n      <td>82</td>\n    </tr>\n    <tr>\n      <th>1</th>\n      <td>PN</td>\n      <td>73</td>\n    </tr>\n    <tr>\n      <th>2</th>\n      <td>BN</td>\n      <td>30</td>\n    </tr>\n    <tr>\n      <th>4</th>\n      <td>GPS</td>\n      <td>22</td>\n    </tr>\n    <tr>\n      <th>5</th>\n      <td>GRS</td>\n      <td>6</td>\n    </tr>\n    <tr>\n      <th>7</th>\n      <td>WARISAN</td>\n      <td>3</td>\n    </tr>\n    <tr>\n      <th>8</th>\n      <td>BEBAS</td>\n      <td>2</td>\n    </tr>\n    <tr>\n      <th>12</th>\n      <td>(unknown)</td>\n      <td>2</td>\n    </tr>\n    <tr>\n      <th>10</th>\n      <td>KDM</td>\n      <td>1</td>\n    </tr>\n    <tr>\n      <th>11</th>\n      <td>PBM</td>\n      <td>1</td>\n    </tr>\n  </tbody>\n</table>\n</div>"
     },
     "execution_count": 3,
     "metadata": {},
     "output_type": "execute_result"
    }
   ],
   "source": [
    "party_mapping = [\n",
    "    (\"DAP\", \"PH\"), (\"MUDA\", \"PH\"), (\"PAS\", \"PN\")\n",
    "]\n",
    "\n",
    "for party1, party2 in party_mapping:\n",
    "    seats = df.loc[df.Party == party1, \"Seats\"].iloc[0]\n",
    "    df.loc[df.Party == party2, \"Seats\"] += seats\n",
    "    df.drop(df[df.Party == party1].index, inplace=True)\n",
    "\n",
    "df.loc[df.Party == \"PH\", \"Party\"] = \"PH + MUDA\"\n",
    "df.sort_values(\"Seats\", ascending=False, inplace=True)\n",
    "\n",
    "df"
   ],
   "metadata": {
    "collapsed": false
   }
  },
  {
   "cell_type": "code",
   "execution_count": 4,
   "outputs": [
    {
     "data": {
      "text/plain": "[Text(0, 0, '82'),\n Text(0, 0, '73'),\n Text(0, 0, '30'),\n Text(0, 0, '22'),\n Text(0, 0, '6'),\n Text(0, 0, '3'),\n Text(0, 0, '2'),\n Text(0, 0, '2'),\n Text(0, 0, '1'),\n Text(0, 0, '1')]"
     },
     "execution_count": 4,
     "metadata": {},
     "output_type": "execute_result"
    },
    {
     "data": {
      "text/plain": "<Figure size 640x480 with 1 Axes>",
      "image/png": "[encoded data removed]"
     },
     "metadata": {},
     "output_type": "display_data"
    }
   ],
   "source": [
    "palette = sns.color_palette(\"Greens_d\", len(df))\n",
    "x, y = \"Seats\", \"Party\"\n",
    "plot = sns.barplot(df, x=x, y=y, palette=palette)\n",
    "plot.bar_label(plot.containers[0])"
   ],
   "metadata": {
    "collapsed": false
   }
  },
  {
   "cell_type": "code",
   "execution_count": 4,
   "outputs": [],
   "source": [],
   "metadata": {
    "collapsed": false
   }
  }
 ],
 "metadata": {
  "kernelspec": {
   "display_name": "Python 3",
   "language": "python",
   "name": "python3"
  },
  "language_info": {
   "codemirror_mode": {
    "name": "ipython",
    "version": 2
   },
   "file_extension": ".py",
   "mimetype": "text/x-python",
   "name": "python",
   "nbconvert_exporter": "python",
   "pygments_lexer": "ipython2",
   "version": "2.7.6"
  }
 },
 "nbformat": 4,
 "nbformat_minor": 0
}
